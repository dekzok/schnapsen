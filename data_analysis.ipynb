{
 "cells": [
  {
   "cell_type": "markdown",
   "source": [
    "# Data Analysis\n",
    "### Group #"
   ],
   "metadata": {
    "collapsed": false
   }
  },
  {
   "cell_type": "markdown",
   "metadata": {
    "collapsed": true,
    "pycharm": {
     "name": "#%% md\n"
    }
   },
   "source": [
    "### Importing libraries and all data"
   ]
  },
  {
   "cell_type": "code",
   "execution_count": 89,
   "outputs": [
    {
     "name": "stdout",
     "output_type": "stream",
     "text": [
      "Requirement already satisfied: pandas in /Library/Frameworks/Python.framework/Versions/3.10/lib/python3.10/site-packages (1.4.0)\r\n",
      "Requirement already satisfied: numpy>=1.21.0 in /Library/Frameworks/Python.framework/Versions/3.10/lib/python3.10/site-packages (from pandas) (1.21.4)\r\n",
      "Requirement already satisfied: pytz>=2020.1 in /Library/Frameworks/Python.framework/Versions/3.10/lib/python3.10/site-packages (from pandas) (2021.3)\r\n",
      "Requirement already satisfied: python-dateutil>=2.8.1 in /Library/Frameworks/Python.framework/Versions/3.10/lib/python3.10/site-packages (from pandas) (2.8.2)\r\n",
      "Requirement already satisfied: six>=1.5 in /Library/Frameworks/Python.framework/Versions/3.10/lib/python3.10/site-packages (from python-dateutil>=2.8.1->pandas) (1.16.0)\r\n",
      "\u001B[33mWARNING: You are using pip version 21.2.3; however, version 21.3.1 is available.\r\n",
      "You should consider upgrading via the '/Library/Frameworks/Python.framework/Versions/3.10/bin/python3 -m pip install --upgrade pip' command.\u001B[0m\r\n",
      "Requirement already satisfied: matplotlib in /Library/Frameworks/Python.framework/Versions/3.10/lib/python3.10/site-packages (3.5.1)\r\n",
      "Requirement already satisfied: python-dateutil>=2.7 in /Library/Frameworks/Python.framework/Versions/3.10/lib/python3.10/site-packages (from matplotlib) (2.8.2)\r\n",
      "Requirement already satisfied: packaging>=20.0 in /Library/Frameworks/Python.framework/Versions/3.10/lib/python3.10/site-packages (from matplotlib) (21.2)\r\n",
      "Requirement already satisfied: pyparsing>=2.2.1 in /Library/Frameworks/Python.framework/Versions/3.10/lib/python3.10/site-packages (from matplotlib) (2.4.7)\r\n",
      "Requirement already satisfied: cycler>=0.10 in /Library/Frameworks/Python.framework/Versions/3.10/lib/python3.10/site-packages (from matplotlib) (0.11.0)\r\n",
      "Requirement already satisfied: pillow>=6.2.0 in /Library/Frameworks/Python.framework/Versions/3.10/lib/python3.10/site-packages (from matplotlib) (9.0.0)\r\n",
      "Requirement already satisfied: fonttools>=4.22.0 in /Library/Frameworks/Python.framework/Versions/3.10/lib/python3.10/site-packages (from matplotlib) (4.29.0)\r\n",
      "Requirement already satisfied: numpy>=1.17 in /Library/Frameworks/Python.framework/Versions/3.10/lib/python3.10/site-packages (from matplotlib) (1.21.4)\r\n",
      "Requirement already satisfied: kiwisolver>=1.0.1 in /Library/Frameworks/Python.framework/Versions/3.10/lib/python3.10/site-packages (from matplotlib) (1.3.2)\r\n",
      "Requirement already satisfied: six>=1.5 in /Library/Frameworks/Python.framework/Versions/3.10/lib/python3.10/site-packages (from python-dateutil>=2.7->matplotlib) (1.16.0)\r\n",
      "\u001B[33mWARNING: You are using pip version 21.2.3; however, version 21.3.1 is available.\r\n",
      "You should consider upgrading via the '/Library/Frameworks/Python.framework/Versions/3.10/bin/python3 -m pip install --upgrade pip' command.\u001B[0m\r\n",
      "Requirement already satisfied: scipy in /Library/Frameworks/Python.framework/Versions/3.10/lib/python3.10/site-packages (1.7.3)\r\n",
      "Requirement already satisfied: numpy<1.23.0,>=1.16.5 in /Library/Frameworks/Python.framework/Versions/3.10/lib/python3.10/site-packages (from scipy) (1.21.4)\r\n",
      "\u001B[33mWARNING: You are using pip version 21.2.3; however, version 21.3.1 is available.\r\n",
      "You should consider upgrading via the '/Library/Frameworks/Python.framework/Versions/3.10/bin/python3 -m pip install --upgrade pip' command.\u001B[0m\r\n"
     ]
    }
   ],
   "source": [
    "import sys\n",
    "!{sys.executable} -m pip install pandas\n",
    "!{sys.executable} -m pip install matplotlib\n",
    "!{sys.executable} -m pip install scipy\n",
    "\n",
    "import numpy as np\n",
    "import pandas as pd\n",
    "import matplotlib.pyplot as plt\n",
    "from scipy.stats import chi2_contingency, chi2\n",
    "\n",
    "plt.style.use(\"seaborn-whitegrid\")"
   ],
   "metadata": {
    "collapsed": false,
    "pycharm": {
     "name": "#%%\n"
    }
   }
  },
  {
   "cell_type": "code",
   "execution_count": 90,
   "outputs": [
    {
     "data": {
      "text/plain": "                              16                              32   \\\n1   [[39, 61], [32, 68], [9, 91]]  [[36, 64], [37, 63], [17, 83]]   \n2  [[47, 53], [39, 61], [10, 90]]  [[48, 52], [41, 59], [15, 85]]   \n3   [[33, 67], [41, 59], [9, 91]]  [[45, 55], [40, 60], [10, 90]]   \n4  [[48, 52], [41, 59], [13, 87]]  [[40, 60], [36, 64], [10, 90]]   \n\n                              64                              128  \n1  [[34, 66], [40, 60], [15, 85]]  [[38, 62], [39, 61], [12, 88]]  \n2  [[40, 60], [39, 61], [15, 85]]  [[48, 52], [35, 65], [12, 88]]  \n3  [[36, 64], [37, 63], [11, 89]]  [[40, 60], [37, 63], [15, 85]]  \n4  [[42, 58], [39, 61], [14, 86]]  [[36, 64], [45, 55], [10, 90]]  ",
      "text/html": "<div>\n<style scoped>\n    .dataframe tbody tr th:only-of-type {\n        vertical-align: middle;\n    }\n\n    .dataframe tbody tr th {\n        vertical-align: top;\n    }\n\n    .dataframe thead th {\n        text-align: right;\n    }\n</style>\n<table border=\"1\" class=\"dataframe\">\n  <thead>\n    <tr style=\"text-align: right;\">\n      <th></th>\n      <th>16</th>\n      <th>32</th>\n      <th>64</th>\n      <th>128</th>\n    </tr>\n  </thead>\n  <tbody>\n    <tr>\n      <th>1</th>\n      <td>[[39, 61], [32, 68], [9, 91]]</td>\n      <td>[[36, 64], [37, 63], [17, 83]]</td>\n      <td>[[34, 66], [40, 60], [15, 85]]</td>\n      <td>[[38, 62], [39, 61], [12, 88]]</td>\n    </tr>\n    <tr>\n      <th>2</th>\n      <td>[[47, 53], [39, 61], [10, 90]]</td>\n      <td>[[48, 52], [41, 59], [15, 85]]</td>\n      <td>[[40, 60], [39, 61], [15, 85]]</td>\n      <td>[[48, 52], [35, 65], [12, 88]]</td>\n    </tr>\n    <tr>\n      <th>3</th>\n      <td>[[33, 67], [41, 59], [9, 91]]</td>\n      <td>[[45, 55], [40, 60], [10, 90]]</td>\n      <td>[[36, 64], [37, 63], [11, 89]]</td>\n      <td>[[40, 60], [37, 63], [15, 85]]</td>\n    </tr>\n    <tr>\n      <th>4</th>\n      <td>[[48, 52], [41, 59], [13, 87]]</td>\n      <td>[[40, 60], [36, 64], [10, 90]]</td>\n      <td>[[42, 58], [39, 61], [14, 86]]</td>\n      <td>[[36, 64], [45, 55], [10, 90]]</td>\n    </tr>\n  </tbody>\n</table>\n</div>"
     },
     "execution_count": 90,
     "metadata": {},
     "output_type": "execute_result"
    }
   ],
   "source": [
    "number_of_layers_list = [1, 2, 3, 4]\n",
    "hidden_layer_sizes_list= [16, 32, 64, 128]\n",
    "\n",
    "raw_wins = []\n",
    "raw_scores = []\n",
    "\n",
    "for n_layers in number_of_layers_list:\n",
    "    n_wins = []\n",
    "    n_scores = []\n",
    "    for size in hidden_layer_sizes_list:\n",
    "        with open(\"./data/model\"+str(n_layers)+\"x\"+str(size)+\".txt\", \"r\") as f:\n",
    "            lines = f.readlines()\n",
    "            n_wins.append(eval(lines[0]))\n",
    "            n_scores.append(eval(lines[1]))\n",
    "    raw_wins.append(n_wins)\n",
    "    raw_scores.append(n_scores)\n",
    "\n",
    "\n",
    "\n",
    "wins = pd.DataFrame(data=raw_wins,columns=hidden_layer_sizes_list,index=number_of_layers_list)\n",
    "scores = pd.DataFrame(data=raw_scores,columns=hidden_layer_sizes_list,index=number_of_layers_list)\n",
    "wins"
   ],
   "metadata": {
    "collapsed": false,
    "pycharm": {
     "name": "#%%\n"
    }
   }
  },
  {
   "cell_type": "code",
   "execution_count": 91,
   "outputs": [
    {
     "data": {
      "text/plain": "         16         32         64         128\n1  26.666667  30.000000  29.666667  29.666667\n2  32.000000  34.666667  31.333333  31.666667\n3  27.666667  31.666667  28.000000  30.666667\n4  34.000000  28.666667  31.666667  30.333333",
      "text/html": "<div>\n<style scoped>\n    .dataframe tbody tr th:only-of-type {\n        vertical-align: middle;\n    }\n\n    .dataframe tbody tr th {\n        vertical-align: top;\n    }\n\n    .dataframe thead th {\n        text-align: right;\n    }\n</style>\n<table border=\"1\" class=\"dataframe\">\n  <thead>\n    <tr style=\"text-align: right;\">\n      <th></th>\n      <th>16</th>\n      <th>32</th>\n      <th>64</th>\n      <th>128</th>\n    </tr>\n  </thead>\n  <tbody>\n    <tr>\n      <th>1</th>\n      <td>26.666667</td>\n      <td>30.000000</td>\n      <td>29.666667</td>\n      <td>29.666667</td>\n    </tr>\n    <tr>\n      <th>2</th>\n      <td>32.000000</td>\n      <td>34.666667</td>\n      <td>31.333333</td>\n      <td>31.666667</td>\n    </tr>\n    <tr>\n      <th>3</th>\n      <td>27.666667</td>\n      <td>31.666667</td>\n      <td>28.000000</td>\n      <td>30.666667</td>\n    </tr>\n    <tr>\n      <th>4</th>\n      <td>34.000000</td>\n      <td>28.666667</td>\n      <td>31.666667</td>\n      <td>30.333333</td>\n    </tr>\n  </tbody>\n</table>\n</div>"
     },
     "execution_count": 91,
     "metadata": {},
     "output_type": "execute_result"
    }
   ],
   "source": [
    "def percent_won(a):\n",
    "     return sum([x[0] for x in a])/3\n",
    "wins_percent_won = wins.applymap(percent_won)\n",
    "wins_percent_won"
   ],
   "metadata": {
    "collapsed": false,
    "pycharm": {
     "name": "#%%\n"
    }
   }
  },
  {
   "cell_type": "code",
   "execution_count": 92,
   "outputs": [
    {
     "data": {
      "text/plain": "                  16                  32                  64   \\\n1  [0.39, 0.32, 0.09]  [0.36, 0.37, 0.17]   [0.34, 0.4, 0.15]   \n2   [0.47, 0.39, 0.1]  [0.48, 0.41, 0.15]   [0.4, 0.39, 0.15]   \n3  [0.33, 0.41, 0.09]    [0.45, 0.4, 0.1]  [0.36, 0.37, 0.11]   \n4  [0.48, 0.41, 0.13]    [0.4, 0.36, 0.1]  [0.42, 0.39, 0.14]   \n\n                  128  \n1  [0.38, 0.39, 0.12]  \n2  [0.48, 0.35, 0.12]  \n3   [0.4, 0.37, 0.15]  \n4   [0.36, 0.45, 0.1]  ",
      "text/html": "<div>\n<style scoped>\n    .dataframe tbody tr th:only-of-type {\n        vertical-align: middle;\n    }\n\n    .dataframe tbody tr th {\n        vertical-align: top;\n    }\n\n    .dataframe thead th {\n        text-align: right;\n    }\n</style>\n<table border=\"1\" class=\"dataframe\">\n  <thead>\n    <tr style=\"text-align: right;\">\n      <th></th>\n      <th>16</th>\n      <th>32</th>\n      <th>64</th>\n      <th>128</th>\n    </tr>\n  </thead>\n  <tbody>\n    <tr>\n      <th>1</th>\n      <td>[0.39, 0.32, 0.09]</td>\n      <td>[0.36, 0.37, 0.17]</td>\n      <td>[0.34, 0.4, 0.15]</td>\n      <td>[0.38, 0.39, 0.12]</td>\n    </tr>\n    <tr>\n      <th>2</th>\n      <td>[0.47, 0.39, 0.1]</td>\n      <td>[0.48, 0.41, 0.15]</td>\n      <td>[0.4, 0.39, 0.15]</td>\n      <td>[0.48, 0.35, 0.12]</td>\n    </tr>\n    <tr>\n      <th>3</th>\n      <td>[0.33, 0.41, 0.09]</td>\n      <td>[0.45, 0.4, 0.1]</td>\n      <td>[0.36, 0.37, 0.11]</td>\n      <td>[0.4, 0.37, 0.15]</td>\n    </tr>\n    <tr>\n      <th>4</th>\n      <td>[0.48, 0.41, 0.13]</td>\n      <td>[0.4, 0.36, 0.1]</td>\n      <td>[0.42, 0.39, 0.14]</td>\n      <td>[0.36, 0.45, 0.1]</td>\n    </tr>\n  </tbody>\n</table>\n</div>"
     },
     "execution_count": 92,
     "metadata": {},
     "output_type": "execute_result"
    }
   ],
   "source": [
    "def percent_won_per_bot(a):\n",
    "    return [x[0]/100 for x in a]\n",
    "\n",
    "wins.applymap(percent_won_per_bot)"
   ],
   "metadata": {
    "collapsed": false,
    "pycharm": {
     "name": "#%%\n"
    }
   }
  },
  {
   "cell_type": "code",
   "execution_count": 93,
   "outputs": [
    {
     "data": {
      "text/plain": "<Figure size 576x360 with 1 Axes>",
      "image/png": "[encoded data removed]"
     },
     "metadata": {},
     "output_type": "display_data"
    }
   ],
   "source": [
    "x = np.arange(len(wins_percent_won.columns.values))  # the label locations\n",
    "width = 0.20  # the width of the bars\n",
    "\n",
    "fig, ax = plt.subplots()\n",
    "fig.set_size_inches(8, 5)\n",
    "ax.set_ylim([0, 45])\n",
    "rects1 = ax.bar(x - width, wins_percent_won.loc[1], width, label='1')\n",
    "rects2 = ax.bar(x, wins_percent_won.loc[2], width, label='2')\n",
    "rects3 = ax.bar(x + width, wins_percent_won.loc[3], width, label='3')\n",
    "rects4 = ax.bar(x + width*2, wins_percent_won.loc[4], width, label='4')\n",
    "\n",
    "# Add some text for labels, title and custom x-axis tick labels, etc.\n",
    "ax.set_ylabel('Percent won (%)', fontsize = 12)\n",
    "ax.set_xlabel('Size of hidden layer(s)', fontsize = 12)\n",
    "ax.set_title('Percent won (%) by size and number of hidden layers', fontsize = 14)\n",
    "ax.set_xticks(x+width/2, wins_percent_won.columns.values)\n",
    "ax.legend(title=\"Number of hidden layers\")\n",
    "\n",
    "ax.bar_label(rects1, labels=[f\"{i:.1f}\" for i in wins_percent_won.loc[1]], padding=3)\n",
    "ax.bar_label(rects2, labels=[f\"{i:.1f}\" for i in wins_percent_won.loc[2]], padding=3)\n",
    "ax.bar_label(rects3, labels=[f\"{i:.1f}\" for i in wins_percent_won.loc[3]], padding=3)\n",
    "ax.bar_label(rects4, labels=[f\"{i:.1f}\" for i in wins_percent_won.loc[4]], padding=3)\n",
    "\n",
    "fig.tight_layout()\n",
    "# fig.savefig('test2png.png', dpi=200)\n",
    "\n",
    "plt.show()"
   ],
   "metadata": {
    "collapsed": false,
    "pycharm": {
     "name": "#%%\n"
    }
   }
  },
  {
   "cell_type": "code",
   "execution_count": 94,
   "outputs": [
    {
     "data": {
      "text/plain": "   16   32   64   128\n1   80   90   89   89\n2   96  104   94   95\n3   83   95   84   92\n4  102   86   95   91",
      "text/html": "<div>\n<style scoped>\n    .dataframe tbody tr th:only-of-type {\n        vertical-align: middle;\n    }\n\n    .dataframe tbody tr th {\n        vertical-align: top;\n    }\n\n    .dataframe thead th {\n        text-align: right;\n    }\n</style>\n<table border=\"1\" class=\"dataframe\">\n  <thead>\n    <tr style=\"text-align: right;\">\n      <th></th>\n      <th>16</th>\n      <th>32</th>\n      <th>64</th>\n      <th>128</th>\n    </tr>\n  </thead>\n  <tbody>\n    <tr>\n      <th>1</th>\n      <td>80</td>\n      <td>90</td>\n      <td>89</td>\n      <td>89</td>\n    </tr>\n    <tr>\n      <th>2</th>\n      <td>96</td>\n      <td>104</td>\n      <td>94</td>\n      <td>95</td>\n    </tr>\n    <tr>\n      <th>3</th>\n      <td>83</td>\n      <td>95</td>\n      <td>84</td>\n      <td>92</td>\n    </tr>\n    <tr>\n      <th>4</th>\n      <td>102</td>\n      <td>86</td>\n      <td>95</td>\n      <td>91</td>\n    </tr>\n  </tbody>\n</table>\n</div>"
     },
     "execution_count": 94,
     "metadata": {},
     "output_type": "execute_result"
    }
   ],
   "source": [
    "def total_won(a):\n",
    "    return sum([x[0] for x in a])\n",
    "wins_total_won = wins.applymap(total_won)\n",
    "wins_total_won"
   ],
   "metadata": {
    "collapsed": false,
    "pycharm": {
     "name": "#%%\n"
    }
   }
  },
  {
   "cell_type": "code",
   "execution_count": 95,
   "outputs": [
    {
     "data": {
      "text/plain": "      size_layers  n_layers  result\n0              16         1       1\n1              16         1       1\n2              16         1       1\n3              16         1       1\n4              16         1       1\n...           ...       ...     ...\n4795          128         4       0\n4796          128         4       0\n4797          128         4       0\n4798          128         4       0\n4799          128         4       0\n\n[4800 rows x 3 columns]",
      "text/html": "<div>\n<style scoped>\n    .dataframe tbody tr th:only-of-type {\n        vertical-align: middle;\n    }\n\n    .dataframe tbody tr th {\n        vertical-align: top;\n    }\n\n    .dataframe thead th {\n        text-align: right;\n    }\n</style>\n<table border=\"1\" class=\"dataframe\">\n  <thead>\n    <tr style=\"text-align: right;\">\n      <th></th>\n      <th>size_layers</th>\n      <th>n_layers</th>\n      <th>result</th>\n    </tr>\n  </thead>\n  <tbody>\n    <tr>\n      <th>0</th>\n      <td>16</td>\n      <td>1</td>\n      <td>1</td>\n    </tr>\n    <tr>\n      <th>1</th>\n      <td>16</td>\n      <td>1</td>\n      <td>1</td>\n    </tr>\n    <tr>\n      <th>2</th>\n      <td>16</td>\n      <td>1</td>\n      <td>1</td>\n    </tr>\n    <tr>\n      <th>3</th>\n      <td>16</td>\n      <td>1</td>\n      <td>1</td>\n    </tr>\n    <tr>\n      <th>4</th>\n      <td>16</td>\n      <td>1</td>\n      <td>1</td>\n    </tr>\n    <tr>\n      <th>...</th>\n      <td>...</td>\n      <td>...</td>\n      <td>...</td>\n    </tr>\n    <tr>\n      <th>4795</th>\n      <td>128</td>\n      <td>4</td>\n      <td>0</td>\n    </tr>\n    <tr>\n      <th>4796</th>\n      <td>128</td>\n      <td>4</td>\n      <td>0</td>\n    </tr>\n    <tr>\n      <th>4797</th>\n      <td>128</td>\n      <td>4</td>\n      <td>0</td>\n    </tr>\n    <tr>\n      <th>4798</th>\n      <td>128</td>\n      <td>4</td>\n      <td>0</td>\n    </tr>\n    <tr>\n      <th>4799</th>\n      <td>128</td>\n      <td>4</td>\n      <td>0</td>\n    </tr>\n  </tbody>\n</table>\n<p>4800 rows × 3 columns</p>\n</div>"
     },
     "execution_count": 95,
     "metadata": {},
     "output_type": "execute_result"
    }
   ],
   "source": [
    "data_expanded = []\n",
    "for a,b in wins_total_won.iterrows():\n",
    "    for c in [16,32,64,128]:\n",
    "        for i in range(b[c]):\n",
    "            data_expanded.append([c,a,1])\n",
    "        for i in range(300-b[c]):\n",
    "            data_expanded.append([c,a,0])\n",
    "\n",
    "wins_expanded = pd.DataFrame(data=data_expanded,columns=[\"size_layers\",\"n_layers\",\"result\"])\n",
    "wins_expanded"
   ],
   "metadata": {
    "collapsed": false,
    "pycharm": {
     "name": "#%%\n"
    }
   }
  },
  {
   "cell_type": "code",
   "execution_count": 96,
   "outputs": [
    {
     "data": {
      "text/plain": "       0  losses\n16   361     839\n32   375     825\n64   362     838\n128  367     833",
      "text/html": "<div>\n<style scoped>\n    .dataframe tbody tr th:only-of-type {\n        vertical-align: middle;\n    }\n\n    .dataframe tbody tr th {\n        vertical-align: top;\n    }\n\n    .dataframe thead th {\n        text-align: right;\n    }\n</style>\n<table border=\"1\" class=\"dataframe\">\n  <thead>\n    <tr style=\"text-align: right;\">\n      <th></th>\n      <th>0</th>\n      <th>losses</th>\n    </tr>\n  </thead>\n  <tbody>\n    <tr>\n      <th>16</th>\n      <td>361</td>\n      <td>839</td>\n    </tr>\n    <tr>\n      <th>32</th>\n      <td>375</td>\n      <td>825</td>\n    </tr>\n    <tr>\n      <th>64</th>\n      <td>362</td>\n      <td>838</td>\n    </tr>\n    <tr>\n      <th>128</th>\n      <td>367</td>\n      <td>833</td>\n    </tr>\n  </tbody>\n</table>\n</div>"
     },
     "execution_count": 96,
     "metadata": {},
     "output_type": "execute_result"
    }
   ],
   "source": [
    "def remainder(a):\n",
    "    return 1200 - a\n",
    "\n",
    "total_sizes = wins_total_won.sum(axis=0).to_frame()\n",
    "total_sizes['losses'] = total_sizes.applymap(remainder)\n",
    "total_sizes"
   ],
   "metadata": {
    "collapsed": false,
    "pycharm": {
     "name": "#%%\n"
    }
   }
  },
  {
   "cell_type": "code",
   "execution_count": 97,
   "outputs": [
    {
     "data": {
      "text/plain": "     0  losses\n1  348     852\n2  389     811\n3  354     846\n4  374     826",
      "text/html": "<div>\n<style scoped>\n    .dataframe tbody tr th:only-of-type {\n        vertical-align: middle;\n    }\n\n    .dataframe tbody tr th {\n        vertical-align: top;\n    }\n\n    .dataframe thead th {\n        text-align: right;\n    }\n</style>\n<table border=\"1\" class=\"dataframe\">\n  <thead>\n    <tr style=\"text-align: right;\">\n      <th></th>\n      <th>0</th>\n      <th>losses</th>\n    </tr>\n  </thead>\n  <tbody>\n    <tr>\n      <th>1</th>\n      <td>348</td>\n      <td>852</td>\n    </tr>\n    <tr>\n      <th>2</th>\n      <td>389</td>\n      <td>811</td>\n    </tr>\n    <tr>\n      <th>3</th>\n      <td>354</td>\n      <td>846</td>\n    </tr>\n    <tr>\n      <th>4</th>\n      <td>374</td>\n      <td>826</td>\n    </tr>\n  </tbody>\n</table>\n</div>"
     },
     "execution_count": 97,
     "metadata": {},
     "output_type": "execute_result"
    }
   ],
   "source": [
    "total_n = wins_total_won.sum(axis=1).to_frame()\n",
    "total_n['losses'] = total_n.applymap(remainder)\n",
    "total_n"
   ],
   "metadata": {
    "collapsed": false,
    "pycharm": {
     "name": "#%%\n"
    }
   }
  },
  {
   "cell_type": "code",
   "execution_count": 104,
   "outputs": [
    {
     "data": {
      "text/plain": "(0.4823799704243441,\n 0.9227450483090344,\n 3,\n array([[366.25, 833.75],\n        [366.25, 833.75],\n        [366.25, 833.75],\n        [366.25, 833.75]]))"
     },
     "execution_count": 104,
     "metadata": {},
     "output_type": "execute_result"
    }
   ],
   "source": [
    "chi2_contingency(total_sizes)"
   ],
   "metadata": {
    "collapsed": false,
    "pycharm": {
     "name": "#%%\n"
    }
   }
  },
  {
   "cell_type": "code",
   "execution_count": 105,
   "outputs": [
    {
     "data": {
      "text/plain": "(4.168509601854363,\n 0.24383364273621574,\n 3,\n array([[366.25, 833.75],\n        [366.25, 833.75],\n        [366.25, 833.75],\n        [366.25, 833.75]]))"
     },
     "execution_count": 105,
     "metadata": {},
     "output_type": "execute_result"
    }
   ],
   "source": [
    "chi2_contingency(total_n)"
   ],
   "metadata": {
    "collapsed": false,
    "pycharm": {
     "name": "#%%\n"
    }
   }
  },
  {
   "cell_type": "code",
   "execution_count": null,
   "outputs": [],
   "source": [],
   "metadata": {
    "collapsed": false,
    "pycharm": {
     "name": "#%%\n"
    }
   }
  }
 ],
 "metadata": {
  "kernelspec": {
   "display_name": "Python 3",
   "language": "python",
   "name": "python3"
  },
  "language_info": {
   "codemirror_mode": {
    "name": "ipython",
    "version": 2
   },
   "file_extension": ".py",
   "mimetype": "text/x-python",
   "name": "python",
   "nbconvert_exporter": "python",
   "pygments_lexer": "ipython2",
   "version": "2.7.6"
  }
 },
 "nbformat": 4,
 "nbformat_minor": 0
}